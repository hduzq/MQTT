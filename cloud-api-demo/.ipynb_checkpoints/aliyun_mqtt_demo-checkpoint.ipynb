{
 "cells": [
  {
   "cell_type": "markdown",
   "metadata": {},
   "source": [
    "## 阿里云SDK基本示例  \n",
    "TODO:\n",
    "- 请在这里补充阿里云的相关文档链接。\n",
    "- 写简单文档说明这里代码的功能。\n"
   ]
  },
  {
   "cell_type": "markdown",
   "metadata": {},
   "source": [
    "### 阿里云基本MQTT Demo"
   ]
  },
  {
   "cell_type": "code",
   "execution_count": 2,
   "metadata": {},
   "outputs": [
    {
     "name": "stdout",
     "output_type": "stream",
     "text": [
      "<paho.mqtt.client.Client object at 0x0000015327F1E5B0>\n"
     ]
    }
   ],
   "source": [
    "import paho.mqtt.client as mqtt\n",
    "\n",
    "\n",
    "MQTTHOST = \"iot-06z009y9rnab11u.mqtt.iothub.aliyuncs.com\"\n",
    "MQTTPORT = 1883\n",
    "mqttClient = mqtt.Client(client_id=\"i6faViFVrIm.light1|securemode=2,signmethod=hmacsha256,timestamp=1676383979937|\")\n",
    "mqttClient.username_pw_set(username=\"light1&i6faViFVrIm\", password=\"f0d428467f9fb06467c52f24d11a50491f81c8b4f51684a92682d821ddde29c9\")\n",
    "\n",
    "print(mqttClient)"
   ]
  },
  {
   "cell_type": "markdown",
   "metadata": {},
   "source": [
    "其设备Identifier是：\n",
    "- device id，字符串i6faViFVrIm.light1，使用hmacsha256签名。timestamp什么用？\n",
    "- username\n",
    "- password\n",
    "\n",
    "<font color=red>\n",
    "    client id和username的作用？为什么需要两个？不能用client id做user name？\n",
    "</font>\n"
   ]
  },
  {
   "cell_type": "markdown",
   "metadata": {},
   "source": [
    "\n",
    "### 阿里云Linkkit\n",
    "https://help.aliyun.com/document_detail/98291.html"
   ]
  },
  {
   "cell_type": "code",
   "execution_count": 3,
   "metadata": {},
   "outputs": [],
   "source": [
    "# 连接MQTT服务器\n",
    "def on_mqtt_connect():\n",
    "    mqttClient.connect(MQTTHOST, MQTTPORT, 60)\n",
    "    mqttClient.loop_start()\n",
    "\n",
    "\n",
    "# publish 消息\n",
    "def on_publish(topic, payload, qos):\n",
    "    mqttClient.publish(topic, payload, qos)\n",
    "\n",
    "\n",
    "# 消息处理函数\n",
    "def on_message_come(lient, userdata, msg):\n",
    "    print(msg.topic + \" \" + \":\" + str(msg.payload))\n",
    "\n",
    "\n",
    "# subscribe 消息\n",
    "def on_subscribe():\n",
    "    # 订阅监听自定义Topic\n",
    "    mqttClient.subscribe(\"light1/user/update1\", 1)\n",
    "    mqttClient.on_message = on_message_come # 消息到来处理函数\n",
    "\n",
    "def main():\n",
    "    print(\"start note book\")\n",
    "    on_mqtt_connect()\n",
    "    # 自定义Topic消息上行\n",
    "    on_publish(\"light1/user/test2\", \"Hello Python!\", 1)\n",
    "    # 系统属性Topic消息上行\n",
    "    on_publish(\"/sys/light1/thing/event/property/post\", \"{\\\"method\\\":\\\"thing.service.property.set\\\",\\\"id\\\":\\\"i6faViFVrIm.light1|securemode=2,signmethod=hmacsha256,timestamp=1676381859164|\\\",\\\"params\\\":{\\\"Status\\\":1},\\\"version\\\":\\\"1.0.0\\\"}\", 1)\n",
    "    on_subscribe()"
   ]
  },
  {
   "cell_type": "code",
   "execution_count": 4,
   "metadata": {},
   "outputs": [
    {
     "name": "stdout",
     "output_type": "stream",
     "text": [
      "start note book\n",
      "/ext/error/i6faViFVrIm/light1 :b'{\"code\":520,\"data\":{\"topic\":\"light1/user/test2\",\"productKey\":\"light1\",\"deviceName\":\"user\"},\"id\":\"1\",\"message\":\"no active session for light1&user\"}'\n",
      "/ext/error/i6faViFVrIm/light1 :b'{\"code\":520,\"data\":{\"topic\":\"/sys/light1/thing/event/property/post\",\"productKey\":\"light1\",\"deviceName\":\"thing\"},\"id\":\"i6faViFVrIm.light1|securemode=2,signmethod=hmacsha256,timestamp=1676381859164|\",\"message\":\"no active session for light1&thing\"}'\n"
     ]
    }
   ],
   "source": [
    "main()"
   ]
  },
  {
   "cell_type": "code",
   "execution_count": null,
   "metadata": {},
   "outputs": [],
   "source": []
  }
 ],
 "metadata": {
  "kernelspec": {
   "display_name": "Python 3 (ipykernel)",
   "language": "python",
   "name": "python3"
  },
  "language_info": {
   "codemirror_mode": {
    "name": "ipython",
    "version": 3
   },
   "file_extension": ".py",
   "mimetype": "text/x-python",
   "name": "python",
   "nbconvert_exporter": "python",
   "pygments_lexer": "ipython3",
   "version": "3.9.2"
  }
 },
 "nbformat": 4,
 "nbformat_minor": 4
}
